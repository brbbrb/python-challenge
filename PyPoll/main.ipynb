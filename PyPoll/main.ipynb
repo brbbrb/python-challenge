{
 "cells": [
  {
   "cell_type": "code",
   "execution_count": 12,
   "id": "babad387-f02c-43bb-aead-53c4b5d50f92",
   "metadata": {},
   "outputs": [],
   "source": [
    "# First we'll import the os module\n",
    "# This will allow us to create file paths across operating systems\n",
    "import os\n",
    "\n",
    "# Module for reading CSV files\n",
    "import csv"
   ]
  },
  {
   "cell_type": "code",
   "execution_count": 13,
   "id": "629899f2-3f5a-4b17-8da7-865980447944",
   "metadata": {},
   "outputs": [
    {
     "ename": "SyntaxError",
     "evalue": "invalid syntax (<ipython-input-13-9b337538138c>, line 3)",
     "output_type": "error",
     "traceback": [
      "\u001b[0;36m  File \u001b[0;32m\"<ipython-input-13-9b337538138c>\"\u001b[0;36m, line \u001b[0;32m3\u001b[0m\n\u001b[0;31m    Improved Reading using CSV module\u001b[0m\n\u001b[0m             ^\u001b[0m\n\u001b[0;31mSyntaxError\u001b[0m\u001b[0;31m:\u001b[0m invalid syntax\n"
     ]
    }
   ],
   "source": [
    "csvpath = os.path.join('Resources', 'election_data.csv')\n",
    "\n",
    "with open(csvpath) as csvfile:\n",
    "\n",
    "    # CSV reader specifies delimiter and variable that holds contents\n",
    "    csvreader = csv.reader(csvfile, delimiter=',')\n",
    "\n",
    "    print(csvreader)\n",
    "\n",
    "    # Read the header row first (skip this step if there is now header)\n",
    "    csv_header = next(csvreader)\n",
    "    print(f\"CSV Header: {csv_header}\")\n",
    "\n",
    "    lines = len(list(csvreader))\n",
    "    print(lines)\n",
    "    \n",
    "    \n",
    "    \n",
    "    # Read each row of data after the header\n",
    "    #for row in csvreader:\n",
    "        \n",
    "        #voterID = row[0]\n",
    "        #county = row[1]\n",
    "        #candidate = row[2]\n",
    "        #print(voterID)\n",
    "        #print(county)\n",
    "        #print(candidate)\n",
    "        # Assign columns to type classes\n",
    "\n",
    "        ##month_string = str(month)\n",
    "        #print(type(month_string))\n",
    "\n",
    "        ##profit_integer = int(profit)\n",
    "        #print(type(profit_integer))\n",
    "\n",
    "    # Count total number of months in dataset\n",
    "    ##month_count = len(month)\n",
    "    ##print(month_count)\n",
    "\n",
    "    # Determine total net profit/loss over entire period\n",
    "    ##net_profit = sum(profit)\n",
    "    ##print(net_profit)\n"
   ]
  },
  {
   "cell_type": "code",
   "execution_count": null,
   "id": "8518bf27-f2d6-46b9-85c9-2135824dc39d",
   "metadata": {},
   "outputs": [],
   "source": []
  },
  {
   "cell_type": "code",
   "execution_count": null,
   "id": "89f8f4b5",
   "metadata": {},
   "outputs": [],
   "source": []
  }
 ],
 "metadata": {
  "kernelspec": {
   "display_name": "Python 3",
   "language": "python",
   "name": "python3"
  },
  "language_info": {
   "codemirror_mode": {
    "name": "ipython",
    "version": 3
   },
   "file_extension": ".py",
   "mimetype": "text/x-python",
   "name": "python",
   "nbconvert_exporter": "python",
   "pygments_lexer": "ipython3",
   "version": "3.8.8"
  }
 },
 "nbformat": 4,
 "nbformat_minor": 5
}

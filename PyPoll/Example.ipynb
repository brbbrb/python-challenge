{
 "cells": [
  {
   "cell_type": "code",
   "execution_count": 17,
   "id": "ed9017bf",
   "metadata": {},
   "outputs": [],
   "source": [
    "#Import dependencies\n",
    "import os\n",
    "import csv\n",
    "\n",
    "#Import pypoll.csv file\n",
    "csvpath = os.path.join('Resources', 'election_data.csv')"
   ]
  },
  {
   "cell_type": "code",
   "execution_count": 18,
   "id": "c2c3df6d",
   "metadata": {},
   "outputs": [],
   "source": [
    "# Initialize null lists\n",
    "voter_ids = []\n",
    "countys = []\n",
    "candidates = []"
   ]
  },
  {
   "cell_type": "code",
   "execution_count": 19,
   "id": "f1deecc2",
   "metadata": {},
   "outputs": [],
   "source": [
    "# Read in the CSV file\n",
    "with open(csvpath) as csvfile:\n",
    "\n",
    "    # Split the data on commas\n",
    "    csvreader = csv.reader(csvfile, delimiter=',')\n",
    "\n",
    "    #Read the header row\n",
    "    csv_header = next(csvreader)\n",
    "\n",
    "    # Loop through columns, adding data from csv to lists after header\n",
    "    for row in csvreader:\n",
    "        \n",
    "        voter_ids.append(int(row[0]))\n",
    "        countys.append(str(row[1]))\n",
    "        candidates.append(str(row[2]))"
   ]
  },
  {
   "cell_type": "code",
   "execution_count": 20,
   "id": "5ebb02ae",
   "metadata": {},
   "outputs": [],
   "source": [
    "# Total votes can be found by using len to find length of voter_id list\n",
    "total_votes = len(voter_ids)"
   ]
  },
  {
   "cell_type": "code",
   "execution_count": 21,
   "id": "0dcd7d3f",
   "metadata": {},
   "outputs": [],
   "source": [
    "# List created to specify unique candidates for dictionary\n",
    "unique_candidates = [\"Khan\", \"Correy\", \"Li\", \"O'Tooley\"]"
   ]
  },
  {
   "cell_type": "code",
   "execution_count": 22,
   "id": "dbd7c6fe",
   "metadata": {},
   "outputs": [],
   "source": [
    "\n",
    "# Votes per candidate can be found using count to tally up total votes for each candidate\n",
    "votes_khan = candidates.count(\"Khan\")\n",
    "votes_correy = candidates.count(\"Correy\")\n",
    "votes_li = candidates.count(\"Li\")\n",
    "votes_otooley = candidates.count(\"O'Tooley\")\n",
    "\n",
    "votes_list = [votes_khan, votes_correy, votes_li, votes_otooley]"
   ]
  },
  {
   "cell_type": "code",
   "execution_count": 23,
   "id": "54316568",
   "metadata": {},
   "outputs": [],
   "source": [
    "# Percentage of votes can be found by dividing votes_per_candidate by total_votes, multiplied by 100\n",
    "khan_percent = round((votes_khan / total_votes) * 100)\n",
    "correy_percent = round((votes_correy / total_votes) * 100)\n",
    "li_percent = round((votes_li / total_votes) * 100)\n",
    "otooley_percent = round((votes_otooley / total_votes) * 100)"
   ]
  },
  {
   "cell_type": "code",
   "execution_count": 24,
   "id": "39222fa1",
   "metadata": {},
   "outputs": [],
   "source": [
    "# Create percents list in order to find winner\n",
    "percents = [khan_percent,correy_percent,li_percent,otooley_percent]"
   ]
  },
  {
   "cell_type": "code",
   "execution_count": 25,
   "id": "100972cb",
   "metadata": {},
   "outputs": [],
   "source": [
    "# Zip candidate_list and votes_per_candidate list together for final output\n",
    "a_zip = zip(unique_candidates,votes_list)\n",
    "zipped_dict = dict(a_zip)"
   ]
  },
  {
   "cell_type": "code",
   "execution_count": 26,
   "id": "c12412f4",
   "metadata": {},
   "outputs": [],
   "source": [
    "# Add values in correct order to zipped_dict for final output\n",
    "zipped_dict['Khan'] = khan_percent, votes_khan\n",
    "zipped_dict['Correy'] = correy_percent,votes_correy\n",
    "zipped_dict['Li'] = li_percent,votes_li\n",
    "zipped_dict[\"O'Tooley\"] = otooley_percent,votes_otooley"
   ]
  },
  {
   "cell_type": "code",
   "execution_count": 27,
   "id": "6e8adb1a",
   "metadata": {},
   "outputs": [],
   "source": [
    "# Create function to print dictionary for final output\n",
    "def print_txt ():\n",
    "    for key, value in zipped_dict.items():\n",
    "        print(key, ':', value)\n",
    "        continue"
   ]
  },
  {
   "cell_type": "code",
   "execution_count": 28,
   "id": "6f753c49",
   "metadata": {},
   "outputs": [],
   "source": [
    "# Find max percent within percents list to determine winner\n",
    "max_percent = max(percents)"
   ]
  },
  {
   "cell_type": "code",
   "execution_count": 29,
   "id": "1ea3b603",
   "metadata": {},
   "outputs": [],
   "source": [
    "# Use index to determine candidate with max percent of votes\n",
    "winner_index = percents.index(max_percent)\n",
    "winner = candidates[winner_index]"
   ]
  },
  {
   "cell_type": "code",
   "execution_count": 30,
   "id": "e8ccccf8",
   "metadata": {},
   "outputs": [],
   "source": [
    "with open (\"pypoll_results.txt\", \"w\") as file:\n",
    "    file.write(\"Election Results\" + \"\\n\") \n",
    "    file.write(\"------------------------------------\"+ \"\\n\")\n",
    "    file.write(f\"Total Votes: {total_votes} \\n\")\n",
    "    file.write(\"------------------------------------\"+ \"\\n\")\n",
    "    file.write(f\"Khan: {khan_percent}% ({votes_khan}) \\n\")\n",
    "    file.write(f\"Correy: {correy_percent}% ({votes_correy}) \\n\")\n",
    "    file.write(f\"Li: {li_percent}% ({votes_li}) \\n\")\n",
    "    file.write(f\"O'Tooley: {otooley_percent}% ({votes_otooley}) \\n\")\n",
    "    file.write(\"------------------------------------\"+ \"\\n\")\n",
    "    file.write(f\"Winner: {winner} \\n\")\n",
    "    file.write(\"------------------------------------\"+ \"\\n\")"
   ]
  },
  {
   "cell_type": "code",
   "execution_count": 31,
   "id": "37efe4d2",
   "metadata": {},
   "outputs": [
    {
     "name": "stdout",
     "output_type": "stream",
     "text": [
      "Election Results\n",
      "------------------------------------\n",
      "Total Votes: 3521001 \n",
      "------------------------------------\n",
      "Khan: 63% (2218231) \n",
      "Correy: 20% (704200) \n",
      "Li: 14% (492940) \n",
      "O'Tooley: 3% (105630) \n",
      "------------------------------------\n",
      "Winner: Khan \n",
      "------------------------------------\n",
      "\n"
     ]
    }
   ],
   "source": [
    "file = open(\"pypoll_results.txt\", \"r\")\n",
    "print(file.read())\n",
    "\n",
    "# close txt file"
   ]
  },
  {
   "cell_type": "code",
   "execution_count": null,
   "id": "d99a7098",
   "metadata": {},
   "outputs": [],
   "source": []
  }
 ],
 "metadata": {
  "kernelspec": {
   "display_name": "Python 3",
   "language": "python",
   "name": "python3"
  },
  "language_info": {
   "codemirror_mode": {
    "name": "ipython",
    "version": 3
   },
   "file_extension": ".py",
   "mimetype": "text/x-python",
   "name": "python",
   "nbconvert_exporter": "python",
   "pygments_lexer": "ipython3",
   "version": "3.8.8"
  }
 },
 "nbformat": 4,
 "nbformat_minor": 5
}
